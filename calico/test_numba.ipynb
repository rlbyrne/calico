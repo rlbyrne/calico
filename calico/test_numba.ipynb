{
 "cells": [
  {
   "cell_type": "code",
   "execution_count": 2,
   "id": "1e739ce1",
   "metadata": {},
   "outputs": [],
   "source": [
    "from numba import njit\n",
    "import numpy as np"
   ]
  },
  {
   "cell_type": "code",
   "execution_count": null,
   "id": "e7d3e80b",
   "metadata": {},
   "outputs": [],
   "source": [
    "@njit\n",
    "def test_function():\n",
    "    bincount_multidim(np.arange(500), weights=None, minlength=0, axis=0)\n",
    "\n",
    "@njit\n",
    "def bincount_multidim(x, weights=None, minlength=0, axis=0):\n",
    "    \"\"\"\n",
    "    Extension of numpy.bincount that supports multidimensional data and complex values.\n",
    "\n",
    "    Parameters\n",
    "    ----------\n",
    "    x : array of int\n",
    "        Must be 1 dimension and contain only nonnegative ints.\n",
    "    weights :  array of float or complex float, optional\n",
    "        Length of axis specified by axis keyword must equal the length of x.\n",
    "    minlength : int, optional\n",
    "        See numpy.bincount documentation.\n",
    "    axis : int\n",
    "        Axis of weights over which bincount will be calculated. Default 0.\n",
    "\n",
    "    Returns\n",
    "    -------\n",
    "    out : array of int, float, or complex float\n",
    "        Dimensionality and dtype is the same as those of weights. Shape is the same\n",
    "        for all axes except that of the axis keyword, which has length\n",
    "        max(x) + 1.\n",
    "    \"\"\"\n",
    "\n",
    "    if weights is None:\n",
    "        return np.bincount(x, weights=weights, minlength=minlength)\n",
    "    elif weights.ndim < 2 and np.min(np.isreal(weights)):\n",
    "        return np.bincount(x, weights=np.real(weights), minlength=minlength).astype(\n",
    "            weights.dtype\n",
    "        )\n",
    "    else:\n",
    "        if np.min(np.isreal(weights)):\n",
    "            use_weights_list = [np.real(weights)]\n",
    "        else:\n",
    "            use_weights_list = [np.real(weights), np.imag(weights)]\n",
    "        out_list = []\n",
    "        for use_weights in use_weights_list:  # Iterate over real and imaginary parts\n",
    "            weights_transposed = np.rollaxis(use_weights, axis, start=0)\n",
    "            output_shape = np.array(np.shape(weights_transposed))\n",
    "            output_shape[0] = np.max([np.max(x) + 1, minlength])\n",
    "            weights_transposed = weights_transposed.reshape(\n",
    "                (\n",
    "                    np.shape(weights_transposed)[0],\n",
    "                    np.prod(np.shape(weights_transposed)[1:], dtype=int),\n",
    "                )\n",
    "            )\n",
    "            out = np.zeros(\n",
    "                (output_shape[0], np.shape(weights_transposed)[1]),\n",
    "                dtype=weights.dtype,\n",
    "            )\n",
    "            for ind in range(np.shape(weights_transposed)[1]):\n",
    "                out[:, ind] = np.bincount(\n",
    "                    x, weights=weights_transposed[:, ind], minlength=minlength\n",
    "                )\n",
    "            out = out.reshape(output_shape)\n",
    "            out = np.rollaxis(out, 0, start=axis + 1)\n",
    "            out_list.append(out)\n",
    "        if len(out_list) == 1:\n",
    "            return out_list[0]\n",
    "        else:\n",
    "            return out_list[0] + 1j * out_list[1]"
   ]
  },
  {
   "cell_type": "code",
   "execution_count": 18,
   "id": "a55b60e8",
   "metadata": {},
   "outputs": [],
   "source": [
    "test_function()"
   ]
  },
  {
   "cell_type": "code",
   "execution_count": null,
   "id": "1b475cd6",
   "metadata": {},
   "outputs": [],
   "source": []
  }
 ],
 "metadata": {
  "kernelspec": {
   "display_name": "py311",
   "language": "python",
   "name": "python3"
  },
  "language_info": {
   "codemirror_mode": {
    "name": "ipython",
    "version": 3
   },
   "file_extension": ".py",
   "mimetype": "text/x-python",
   "name": "python",
   "nbconvert_exporter": "python",
   "pygments_lexer": "ipython3",
   "version": "3.11.13"
  }
 },
 "nbformat": 4,
 "nbformat_minor": 5
}
